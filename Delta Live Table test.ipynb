{
 "cells": [
  {
   "cell_type": "code",
   "execution_count": 0,
   "metadata": {
    "application/vnd.databricks.v1+cell": {
     "cellMetadata": {},
     "inputWidgets": {},
     "nuid": "01973cd3-dbdf-4744-823f-20bcedddef6c",
     "showTitle": false,
     "title": ""
    }
   },
   "outputs": [],
   "source": [
    "import dlt\n",
    "from pyspark.sql import SparkSession\n",
    "from pyspark.sql.functions import *\n",
    "from pyspark.sql.types import *\n",
    "import requests\n",
    "import json\n",
    "\n",
    "spark = SparkSession.builder \\\n",
    "    .appName(\"Example\") \\\n",
    "    .getOrCreate()"
   ]
  },
  {
   "cell_type": "code",
   "execution_count": 0,
   "metadata": {
    "application/vnd.databricks.v1+cell": {
     "cellMetadata": {},
     "inputWidgets": {},
     "nuid": "88ba211b-8d11-4944-b29b-90ee2cc7b59f",
     "showTitle": false,
     "title": ""
    }
   },
   "outputs": [],
   "source": [
    "latest_readings_API = requests.get(\"http://environment.data.gov.uk/flood-monitoring/data/readings?latest\")\n",
    "latest_readings_json = json.loads(latest_readings_API.text)\n",
    "latest_readings_json = latest_readings_json['items']\n",
    "\n",
    "@dlt.table(\n",
    "  comment=\"Raw data of latest readings.\"\n",
    ")\n",
    "def latest_readings_raw():          \n",
    "  return (\n",
    "    spark.read.json(spark.sparkContext.parallelize([latest_readings_json]))\n",
    "  )"
   ]
  },
  {
   "cell_type": "code",
   "execution_count": 0,
   "metadata": {
    "application/vnd.databricks.v1+cell": {
     "cellMetadata": {},
     "inputWidgets": {},
     "nuid": "49e42db3-83a8-4b4c-b1e7-378841597876",
     "showTitle": false,
     "title": ""
    }
   },
   "outputs": [],
   "source": [
    "@dlt.table(\n",
    "  comment=\"Latest readings data cleaned and refreshed\"\n",
    ")\n",
    "\n",
    "def latest_readings_prepared():\n",
    "  return (\n",
    "    dlt.read(\"latest_readings_raw\")\n",
    "      .withColumn(\"measure_before_slash\", split(col(\"measure\"),\"/\")[0])\n",
    "      .withColumn(\"measure_after_slash\", split(col(\"measure\"),\"/\")[1])\n",
    "      .select(\"@id\", \"measure\", \"measure_before_slash\",\"measure_after_slash\",\"dateTime\",\"value\")\n",
    "  )"
   ]
  }
 ],
 "metadata": {
  "application/vnd.databricks.v1+notebook": {
   "dashboards": [],
   "language": "python",
   "notebookMetadata": {
    "pythonIndentUnit": 4
   },
   "notebookName": "Delta Live Table test",
   "widgets": {}
  }
 },
 "nbformat": 4,
 "nbformat_minor": 0
}
